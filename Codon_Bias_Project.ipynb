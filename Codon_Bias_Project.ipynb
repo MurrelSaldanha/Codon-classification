{
  "nbformat": 4,
  "nbformat_minor": 0,
  "metadata": {
    "colab": {
      "name": "Codon_Bias_Project.ipynb",
      "provenance": [],
      "authorship_tag": "ABX9TyMDWK2ED2ufNyW97y1D/9t7",
      "include_colab_link": true
    },
    "kernelspec": {
      "name": "python3",
      "display_name": "Python 3"
    },
    "language_info": {
      "name": "python"
    }
  },
  "cells": [
    {
      "cell_type": "markdown",
      "metadata": {
        "id": "view-in-github",
        "colab_type": "text"
      },
      "source": [
        "<a href=\"https://colab.research.google.com/github/MurrelSaldanha/Codon-classification/blob/main/Codon_Bias_Project.ipynb\" target=\"_parent\"><img src=\"https://colab.research.google.com/assets/colab-badge.svg\" alt=\"Open In Colab\"/></a>"
      ]
    },
    {
      "cell_type": "code",
      "metadata": {
        "id": "Jv6oaXNgFKw2"
      },
      "source": [
        "import numpy as np\n",
        "import matplotlib.pyplot as plt\n",
        "import pandas as pd"
      ],
      "execution_count": 1,
      "outputs": []
    },
    {
      "cell_type": "code",
      "metadata": {
        "colab": {
          "base_uri": "https://localhost:8080/"
        },
        "id": "A1cfjprhUOED",
        "outputId": "9ec29911-02ee-4714-d474-67e95bc9243a"
      },
      "source": [
        "dataset = pd.read_csv('codon_usage_CSV.csv')\n",
        "X_train = dataset.iloc[:, 1:65].values\n",
        "y_train = dataset.iloc[:, [0]].values"
      ],
      "execution_count": 2,
      "outputs": [
        {
          "output_type": "stream",
          "name": "stderr",
          "text": [
            "/usr/local/lib/python3.7/dist-packages/IPython/core/interactiveshell.py:2718: DtypeWarning: Columns (73) have mixed types.Specify dtype option on import or set low_memory=False.\n",
            "  interactivity=interactivity, compiler=compiler, result=result)\n"
          ]
        }
      ]
    },
    {
      "cell_type": "code",
      "metadata": {
        "id": "-8kqoQsJXKvy"
      },
      "source": [
        "codons = ['UUU',\t'UUC',\t'UUA',\t'UUG',\t'CUU',\t'CUC',\t'CUA',\t'CUG',\t'AUU',\t'AUC',\t'AUA',\t'AUG',\t'GUU',\t'GUC',\t'GUA',\t'GUG',\t'GCU', 'GCC',\t'GCA',\t'GCG',\t'CCU',\t'CCC',\t'CCA',\t'CCG',\t'UGG',\t'GGU',\t'GGC',\t'GGA',\t'GGG',\t'UCU',\t'UCC',\t'UCA',\t'UCG',\t'AGU',\t'AGC',\t'ACU',\t'ACC',\t'ACA',\t'ACG',\t'UAU',\t'UAC',\t'CAA',\t'CAG',\t'AAU',\t'AAC',\t'UGU',\t'UGC',\t'CAU',\t'CAC',\t'AAA',\t'AAG',\t'CGU',\t'CGC',\t'CGA',\t'CGG',\t'AGA',\t'AGG',\t'GAU',\t'GAC',\t'GAA',\t'GAG',\t'UAA',\t'UAG',\t'UGA']\n",
        "DNA=''\n",
        "a_file = open(\"Vibrio_cholerae_genome.txt\")\n",
        "lines = a_file.readlines()[1:]\n",
        "for line in lines:\n",
        "    DNA = DNA + line.rstrip()\n",
        "DNA = DNA.replace(\"T\",\"U\")\n",
        "codon_profile ={}\n",
        "total_codons = len(DNA)/3\n",
        "X_test = []\n",
        "for i in range(len(DNA)-3):\n",
        "  kmer = DNA[i:i+3]\n",
        "  if codon_profile.get(kmer)== None:\n",
        "    codon_profile.update({kmer: 1})\n",
        "  else:\n",
        "    codon_profile[kmer] += 1\n",
        "  i += 3\n",
        "Keys = codon_profile.keys()\n",
        "for j in codons:\n",
        "  temp = codon_profile.get(j)\n",
        "  X_test.append(temp/total_codons)\n",
        "X_test = [X_test]"
      ],
      "execution_count": 4,
      "outputs": []
    },
    {
      "cell_type": "code",
      "metadata": {
        "id": "scowN638UgdH"
      },
      "source": [
        "from sklearn.preprocessing import LabelEncoder\n",
        "encode = LabelEncoder()\n",
        "y_train = np.array(encode.fit_transform(y_train.ravel()))"
      ],
      "execution_count": 5,
      "outputs": []
    },
    {
      "cell_type": "code",
      "metadata": {
        "colab": {
          "base_uri": "https://localhost:8080/"
        },
        "id": "tA60GrepUs2d",
        "outputId": "ad294bcc-e2d2-4712-b081-45330b9bae6d"
      },
      "source": [
        "from sklearn.ensemble import RandomForestClassifier\n",
        "classifier = RandomForestClassifier(n_estimators=10, criterion='entropy', random_state = 0)\n",
        "classifier.fit(X_train, y_train)"
      ],
      "execution_count": 6,
      "outputs": [
        {
          "output_type": "execute_result",
          "data": {
            "text/plain": [
              "RandomForestClassifier(bootstrap=True, ccp_alpha=0.0, class_weight=None,\n",
              "                       criterion='entropy', max_depth=None, max_features='auto',\n",
              "                       max_leaf_nodes=None, max_samples=None,\n",
              "                       min_impurity_decrease=0.0, min_impurity_split=None,\n",
              "                       min_samples_leaf=1, min_samples_split=2,\n",
              "                       min_weight_fraction_leaf=0.0, n_estimators=10,\n",
              "                       n_jobs=None, oob_score=False, random_state=0, verbose=0,\n",
              "                       warm_start=False)"
            ]
          },
          "metadata": {},
          "execution_count": 6
        }
      ]
    },
    {
      "cell_type": "code",
      "metadata": {
        "colab": {
          "base_uri": "https://localhost:8080/"
        },
        "id": "jP55U_DuU7r5",
        "outputId": "b17a2662-8959-4ace-850b-dfef2ca139be"
      },
      "source": [
        "y_pred = classifier.predict(X_test)\n",
        "output = encode.inverse_transform(y_pred)\n",
        "result_legend = {'arc': 'archaea', 'bct': 'bacteria', 'phg': 'bacteriophage', 'plm': 'plasmid', 'pln':'plant', 'inv': 'invertebrate', 'vrt':'vertebrate', 'mam':'mammal', 'rod':'rodent', 'pri':'primate', 'vrl': 'virus'}\n",
        "print(result_legend.get(output[0]))"
      ],
      "execution_count": 11,
      "outputs": [
        {
          "output_type": "stream",
          "name": "stdout",
          "text": [
            "bacteria\n"
          ]
        }
      ]
    }
  ]
}